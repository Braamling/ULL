{
 "cells": [
  {
   "cell_type": "markdown",
   "metadata": {},
   "source": [
    "# Load and preprocess the data"
   ]
  },
  {
   "cell_type": "code",
   "execution_count": 1,
   "metadata": {
    "collapsed": true
   },
   "outputs": [],
   "source": [
    "import gensim\n",
    "model = gensim.models.KeyedVectors.load_word2vec_format('data/GoogleNews-vectors-negative300.bin.gz', binary=True)"
   ]
  },
  {
   "cell_type": "code",
   "execution_count": 2,
   "metadata": {
    "collapsed": true
   },
   "outputs": [],
   "source": [
    "pairs = []\n",
    "id2word = []\n",
    "id2vector = []\n",
    "id2rel = []\n",
    "word2id = {}\n",
    "\n",
    "with open('data/all_pairs') as data:\n",
    "    for pair in data:\n",
    "        pair = pair.rstrip()\n",
    "        verb, noun = pair.split(\" \", 1)\n",
    "        verb, relation = verb.split(\"_\", 1)\n",
    "        \n",
    "        try:\n",
    "            if verb not in word2id:\n",
    "                id2vector.append(model[verb])\n",
    "                id2word.append(verb)\n",
    "                word2id[verb] = len(id2word) - 1\n",
    "\n",
    "            if noun not in word2id:\n",
    "                id2vector.append(model[noun])\n",
    "                id2word.append(noun)\n",
    "                word2id[noun] = len(id2word) - 1\n",
    "\n",
    "            if relation not in id2rel:\n",
    "                id2rel.append(relation)\n",
    "                \n",
    "            pairs.append(((word2id[verb], word2id[noun], id2rel.index(relation))))\n",
    "        except Exception as e:\n",
    "            pass"
   ]
  },
  {
   "cell_type": "markdown",
   "metadata": {},
   "source": [
    "# Store the vectors"
   ]
  },
  {
   "cell_type": "code",
   "execution_count": 13,
   "metadata": {
    "collapsed": true
   },
   "outputs": [],
   "source": [
    "import pickle\n",
    "import numpy as np\n",
    "# del model"
   ]
  },
  {
   "cell_type": "code",
   "execution_count": 5,
   "metadata": {},
   "outputs": [],
   "source": [
    "pickle.dump( pairs, open( \"storage/pairs.p\", \"wb\" ) )\n",
    "pickle.dump( id2word, open( \"storage/id2word.p\", \"wb\" ) )\n",
    "pickle.dump( id2vector, open( \"storage/id2vector.p\", \"wb\" ) )\n",
    "pickle.dump( id2rel, open( \"storage/id2rel.p\", \"wb\" ) )"
   ]
  },
  {
   "cell_type": "code",
   "execution_count": 31,
   "metadata": {},
   "outputs": [
    {
     "data": {
      "text/plain": [
       "(601,)"
      ]
     },
     "execution_count": 31,
     "metadata": {},
     "output_type": "execute_result"
    }
   ],
   "source": [
    "batch = pairs[0:1000]\n",
    "\n",
    "batch = [np.append(np.append(id2vector[verb], id2vector[noun]), np.asarray([rel])) for verb, noun, rel in batch]\n",
    "\n",
    "batch[0].shape"
   ]
  }
 ],
 "metadata": {
  "kernelspec": {
   "display_name": "Python 3",
   "language": "python",
   "name": "python3"
  },
  "language_info": {
   "codemirror_mode": {
    "name": "ipython",
    "version": 2
   },
   "file_extension": ".py",
   "mimetype": "text/x-python",
   "name": "python",
   "nbconvert_exporter": "python",
   "pygments_lexer": "ipython2",
   "version": "2.7.12"
  }
 },
 "nbformat": 4,
 "nbformat_minor": 2
}
